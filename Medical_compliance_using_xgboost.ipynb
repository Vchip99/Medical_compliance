{
 "cells": [
  {
   "cell_type": "code",
   "execution_count": 1,
   "metadata": {},
   "outputs": [],
   "source": [
    "#Import Required libraries\n",
    "import pandas as pd\n",
    "from sklearn.model_selection import train_test_split,GridSearchCV\n",
    "import xgboost as xgb\n",
    "from sklearn.model_selection import StratifiedKFold\n",
    "import numpy as np\n",
    "from sklearn.metrics import classification_report\n",
    "from sklearn.metrics import accuracy_score \n",
    "from sklearn.metrics import confusion_matrix \n",
    "import seaborn as sns\n",
    "import matplotlib.pyplot as plt"
   ]
  },
  {
   "cell_type": "code",
   "execution_count": 2,
   "metadata": {},
   "outputs": [
    {
     "data": {
      "text/html": [
       "<div>\n",
       "<style scoped>\n",
       "    .dataframe tbody tr th:only-of-type {\n",
       "        vertical-align: middle;\n",
       "    }\n",
       "\n",
       "    .dataframe tbody tr th {\n",
       "        vertical-align: top;\n",
       "    }\n",
       "\n",
       "    .dataframe thead th {\n",
       "        text-align: right;\n",
       "    }\n",
       "</style>\n",
       "<table border=\"1\" class=\"dataframe\">\n",
       "  <thead>\n",
       "    <tr style=\"text-align: right;\">\n",
       "      <th></th>\n",
       "      <th>patient_id</th>\n",
       "      <th>Age</th>\n",
       "      <th>Gender</th>\n",
       "      <th>Prescription_period</th>\n",
       "      <th>Diabetes</th>\n",
       "      <th>Alcoholism</th>\n",
       "      <th>HyperTension</th>\n",
       "      <th>Smokes</th>\n",
       "      <th>Tuberculosis</th>\n",
       "      <th>Sms_Reminder</th>\n",
       "      <th>Adherence</th>\n",
       "    </tr>\n",
       "  </thead>\n",
       "  <tbody>\n",
       "    <tr>\n",
       "      <th>0</th>\n",
       "      <td>107339</td>\n",
       "      <td>32</td>\n",
       "      <td>F</td>\n",
       "      <td>15</td>\n",
       "      <td>0</td>\n",
       "      <td>0</td>\n",
       "      <td>0</td>\n",
       "      <td>0</td>\n",
       "      <td>0</td>\n",
       "      <td>0</td>\n",
       "      <td>Yes</td>\n",
       "    </tr>\n",
       "    <tr>\n",
       "      <th>1</th>\n",
       "      <td>157372</td>\n",
       "      <td>58</td>\n",
       "      <td>F</td>\n",
       "      <td>68</td>\n",
       "      <td>0</td>\n",
       "      <td>0</td>\n",
       "      <td>0</td>\n",
       "      <td>0</td>\n",
       "      <td>0</td>\n",
       "      <td>1</td>\n",
       "      <td>No</td>\n",
       "    </tr>\n",
       "    <tr>\n",
       "      <th>2</th>\n",
       "      <td>84080</td>\n",
       "      <td>47</td>\n",
       "      <td>F</td>\n",
       "      <td>41</td>\n",
       "      <td>0</td>\n",
       "      <td>0</td>\n",
       "      <td>0</td>\n",
       "      <td>0</td>\n",
       "      <td>0</td>\n",
       "      <td>1</td>\n",
       "      <td>No</td>\n",
       "    </tr>\n",
       "    <tr>\n",
       "      <th>3</th>\n",
       "      <td>76807</td>\n",
       "      <td>52</td>\n",
       "      <td>F</td>\n",
       "      <td>3</td>\n",
       "      <td>0</td>\n",
       "      <td>0</td>\n",
       "      <td>0</td>\n",
       "      <td>1</td>\n",
       "      <td>0</td>\n",
       "      <td>0</td>\n",
       "      <td>Yes</td>\n",
       "    </tr>\n",
       "    <tr>\n",
       "      <th>4</th>\n",
       "      <td>18730</td>\n",
       "      <td>56</td>\n",
       "      <td>M</td>\n",
       "      <td>1</td>\n",
       "      <td>0</td>\n",
       "      <td>0</td>\n",
       "      <td>1</td>\n",
       "      <td>0</td>\n",
       "      <td>0</td>\n",
       "      <td>0</td>\n",
       "      <td>Yes</td>\n",
       "    </tr>\n",
       "  </tbody>\n",
       "</table>\n",
       "</div>"
      ],
      "text/plain": [
       "   patient_id  Age Gender  Prescription_period  Diabetes  Alcoholism  \\\n",
       "0      107339   32      F                   15         0           0   \n",
       "1      157372   58      F                   68         0           0   \n",
       "2       84080   47      F                   41         0           0   \n",
       "3       76807   52      F                    3         0           0   \n",
       "4       18730   56      M                    1         0           0   \n",
       "\n",
       "   HyperTension  Smokes  Tuberculosis  Sms_Reminder Adherence  \n",
       "0             0       0             0             0       Yes  \n",
       "1             0       0             0             1        No  \n",
       "2             0       0             0             1        No  \n",
       "3             0       1             0             0       Yes  \n",
       "4             1       0             0             0       Yes  "
      ]
     },
     "execution_count": 2,
     "metadata": {},
     "output_type": "execute_result"
    }
   ],
   "source": [
    "train = pd.read_csv(\"train.csv\")\n",
    "train.head()"
   ]
  },
  {
   "cell_type": "code",
   "execution_count": 3,
   "metadata": {},
   "outputs": [
    {
     "data": {
      "text/html": [
       "<div>\n",
       "<style scoped>\n",
       "    .dataframe tbody tr th:only-of-type {\n",
       "        vertical-align: middle;\n",
       "    }\n",
       "\n",
       "    .dataframe tbody tr th {\n",
       "        vertical-align: top;\n",
       "    }\n",
       "\n",
       "    .dataframe thead th {\n",
       "        text-align: right;\n",
       "    }\n",
       "</style>\n",
       "<table border=\"1\" class=\"dataframe\">\n",
       "  <thead>\n",
       "    <tr style=\"text-align: right;\">\n",
       "      <th></th>\n",
       "      <th>patient_id</th>\n",
       "      <th>Age</th>\n",
       "      <th>Gender</th>\n",
       "      <th>Prescription_period</th>\n",
       "      <th>Diabetes</th>\n",
       "      <th>Alcoholism</th>\n",
       "      <th>HyperTension</th>\n",
       "      <th>Smokes</th>\n",
       "      <th>Tuberculosis</th>\n",
       "      <th>Sms_Reminder</th>\n",
       "      <th>Adherence</th>\n",
       "    </tr>\n",
       "  </thead>\n",
       "  <tbody>\n",
       "    <tr>\n",
       "      <th>count</th>\n",
       "      <td>144169.000000</td>\n",
       "      <td>144169.000000</td>\n",
       "      <td>144169</td>\n",
       "      <td>144169.000000</td>\n",
       "      <td>144169.000000</td>\n",
       "      <td>144169.000000</td>\n",
       "      <td>144169.000000</td>\n",
       "      <td>144169.000000</td>\n",
       "      <td>144169.000000</td>\n",
       "      <td>144169.000000</td>\n",
       "      <td>144169</td>\n",
       "    </tr>\n",
       "    <tr>\n",
       "      <th>unique</th>\n",
       "      <td>NaN</td>\n",
       "      <td>NaN</td>\n",
       "      <td>2</td>\n",
       "      <td>NaN</td>\n",
       "      <td>NaN</td>\n",
       "      <td>NaN</td>\n",
       "      <td>NaN</td>\n",
       "      <td>NaN</td>\n",
       "      <td>NaN</td>\n",
       "      <td>NaN</td>\n",
       "      <td>2</td>\n",
       "    </tr>\n",
       "    <tr>\n",
       "      <th>top</th>\n",
       "      <td>NaN</td>\n",
       "      <td>NaN</td>\n",
       "      <td>F</td>\n",
       "      <td>NaN</td>\n",
       "      <td>NaN</td>\n",
       "      <td>NaN</td>\n",
       "      <td>NaN</td>\n",
       "      <td>NaN</td>\n",
       "      <td>NaN</td>\n",
       "      <td>NaN</td>\n",
       "      <td>No</td>\n",
       "    </tr>\n",
       "    <tr>\n",
       "      <th>freq</th>\n",
       "      <td>NaN</td>\n",
       "      <td>NaN</td>\n",
       "      <td>96375</td>\n",
       "      <td>NaN</td>\n",
       "      <td>NaN</td>\n",
       "      <td>NaN</td>\n",
       "      <td>NaN</td>\n",
       "      <td>NaN</td>\n",
       "      <td>NaN</td>\n",
       "      <td>NaN</td>\n",
       "      <td>100657</td>\n",
       "    </tr>\n",
       "    <tr>\n",
       "      <th>mean</th>\n",
       "      <td>90182.699693</td>\n",
       "      <td>37.794117</td>\n",
       "      <td>NaN</td>\n",
       "      <td>54.662001</td>\n",
       "      <td>0.078325</td>\n",
       "      <td>0.025123</td>\n",
       "      <td>0.216413</td>\n",
       "      <td>0.052619</td>\n",
       "      <td>0.000333</td>\n",
       "      <td>0.573653</td>\n",
       "      <td>NaN</td>\n",
       "    </tr>\n",
       "    <tr>\n",
       "      <th>std</th>\n",
       "      <td>52005.229692</td>\n",
       "      <td>22.844295</td>\n",
       "      <td>NaN</td>\n",
       "      <td>35.723263</td>\n",
       "      <td>0.268683</td>\n",
       "      <td>0.156500</td>\n",
       "      <td>0.411800</td>\n",
       "      <td>0.223272</td>\n",
       "      <td>0.018244</td>\n",
       "      <td>0.499696</td>\n",
       "      <td>NaN</td>\n",
       "    </tr>\n",
       "    <tr>\n",
       "      <th>min</th>\n",
       "      <td>1.000000</td>\n",
       "      <td>0.000000</td>\n",
       "      <td>NaN</td>\n",
       "      <td>1.000000</td>\n",
       "      <td>0.000000</td>\n",
       "      <td>0.000000</td>\n",
       "      <td>0.000000</td>\n",
       "      <td>0.000000</td>\n",
       "      <td>0.000000</td>\n",
       "      <td>0.000000</td>\n",
       "      <td>NaN</td>\n",
       "    </tr>\n",
       "    <tr>\n",
       "      <th>25%</th>\n",
       "      <td>45212.000000</td>\n",
       "      <td>19.000000</td>\n",
       "      <td>NaN</td>\n",
       "      <td>22.000000</td>\n",
       "      <td>0.000000</td>\n",
       "      <td>0.000000</td>\n",
       "      <td>0.000000</td>\n",
       "      <td>0.000000</td>\n",
       "      <td>0.000000</td>\n",
       "      <td>0.000000</td>\n",
       "      <td>NaN</td>\n",
       "    </tr>\n",
       "    <tr>\n",
       "      <th>50%</th>\n",
       "      <td>90199.000000</td>\n",
       "      <td>38.000000</td>\n",
       "      <td>NaN</td>\n",
       "      <td>51.000000</td>\n",
       "      <td>0.000000</td>\n",
       "      <td>0.000000</td>\n",
       "      <td>0.000000</td>\n",
       "      <td>0.000000</td>\n",
       "      <td>0.000000</td>\n",
       "      <td>1.000000</td>\n",
       "      <td>NaN</td>\n",
       "    </tr>\n",
       "    <tr>\n",
       "      <th>75%</th>\n",
       "      <td>135280.000000</td>\n",
       "      <td>56.000000</td>\n",
       "      <td>NaN</td>\n",
       "      <td>86.000000</td>\n",
       "      <td>0.000000</td>\n",
       "      <td>0.000000</td>\n",
       "      <td>0.000000</td>\n",
       "      <td>0.000000</td>\n",
       "      <td>0.000000</td>\n",
       "      <td>1.000000</td>\n",
       "      <td>NaN</td>\n",
       "    </tr>\n",
       "    <tr>\n",
       "      <th>max</th>\n",
       "      <td>180212.000000</td>\n",
       "      <td>113.000000</td>\n",
       "      <td>NaN</td>\n",
       "      <td>120.000000</td>\n",
       "      <td>1.000000</td>\n",
       "      <td>1.000000</td>\n",
       "      <td>1.000000</td>\n",
       "      <td>1.000000</td>\n",
       "      <td>1.000000</td>\n",
       "      <td>2.000000</td>\n",
       "      <td>NaN</td>\n",
       "    </tr>\n",
       "  </tbody>\n",
       "</table>\n",
       "</div>"
      ],
      "text/plain": [
       "           patient_id            Age  Gender  Prescription_period  \\\n",
       "count   144169.000000  144169.000000  144169        144169.000000   \n",
       "unique            NaN            NaN       2                  NaN   \n",
       "top               NaN            NaN       F                  NaN   \n",
       "freq              NaN            NaN   96375                  NaN   \n",
       "mean     90182.699693      37.794117     NaN            54.662001   \n",
       "std      52005.229692      22.844295     NaN            35.723263   \n",
       "min          1.000000       0.000000     NaN             1.000000   \n",
       "25%      45212.000000      19.000000     NaN            22.000000   \n",
       "50%      90199.000000      38.000000     NaN            51.000000   \n",
       "75%     135280.000000      56.000000     NaN            86.000000   \n",
       "max     180212.000000     113.000000     NaN           120.000000   \n",
       "\n",
       "             Diabetes     Alcoholism   HyperTension         Smokes  \\\n",
       "count   144169.000000  144169.000000  144169.000000  144169.000000   \n",
       "unique            NaN            NaN            NaN            NaN   \n",
       "top               NaN            NaN            NaN            NaN   \n",
       "freq              NaN            NaN            NaN            NaN   \n",
       "mean         0.078325       0.025123       0.216413       0.052619   \n",
       "std          0.268683       0.156500       0.411800       0.223272   \n",
       "min          0.000000       0.000000       0.000000       0.000000   \n",
       "25%          0.000000       0.000000       0.000000       0.000000   \n",
       "50%          0.000000       0.000000       0.000000       0.000000   \n",
       "75%          0.000000       0.000000       0.000000       0.000000   \n",
       "max          1.000000       1.000000       1.000000       1.000000   \n",
       "\n",
       "         Tuberculosis   Sms_Reminder Adherence  \n",
       "count   144169.000000  144169.000000    144169  \n",
       "unique            NaN            NaN         2  \n",
       "top               NaN            NaN        No  \n",
       "freq              NaN            NaN    100657  \n",
       "mean         0.000333       0.573653       NaN  \n",
       "std          0.018244       0.499696       NaN  \n",
       "min          0.000000       0.000000       NaN  \n",
       "25%          0.000000       0.000000       NaN  \n",
       "50%          0.000000       1.000000       NaN  \n",
       "75%          0.000000       1.000000       NaN  \n",
       "max          1.000000       2.000000       NaN  "
      ]
     },
     "execution_count": 3,
     "metadata": {},
     "output_type": "execute_result"
    }
   ],
   "source": [
    "train.describe(include='all')"
   ]
  },
  {
   "cell_type": "code",
   "execution_count": 4,
   "metadata": {},
   "outputs": [
    {
     "name": "stdout",
     "output_type": "stream",
     "text": [
      "<class 'pandas.core.frame.DataFrame'>\n",
      "RangeIndex: 144169 entries, 0 to 144168\n",
      "Data columns (total 11 columns):\n",
      "patient_id             144169 non-null int64\n",
      "Age                    144169 non-null int64\n",
      "Gender                 144169 non-null object\n",
      "Prescription_period    144169 non-null int64\n",
      "Diabetes               144169 non-null int64\n",
      "Alcoholism             144169 non-null int64\n",
      "HyperTension           144169 non-null int64\n",
      "Smokes                 144169 non-null int64\n",
      "Tuberculosis           144169 non-null int64\n",
      "Sms_Reminder           144169 non-null int64\n",
      "Adherence              144169 non-null object\n",
      "dtypes: int64(9), object(2)\n",
      "memory usage: 12.1+ MB\n"
     ]
    }
   ],
   "source": [
    "train.info()"
   ]
  },
  {
   "cell_type": "code",
   "execution_count": 6,
   "metadata": {},
   "outputs": [
    {
     "data": {
      "text/plain": [
       "<matplotlib.axes._subplots.AxesSubplot at 0x7f4f38dd9fd0>"
      ]
     },
     "execution_count": 6,
     "metadata": {},
     "output_type": "execute_result"
    },
    {
     "data": {
      "image/png": "[encoded data removed]",
      "text/plain": [
       "<Figure size 432x288 with 1 Axes>"
      ]
     },
     "metadata": {
      "needs_background": "light"
     },
     "output_type": "display_data"
    }
   ],
   "source": [
    "#Missing Data\n",
    "sns.heatmap(train.isnull(),yticklabels=False,cbar=False,cmap='viridis')\n",
    "# No null value"
   ]
  },
  {
   "cell_type": "markdown",
   "metadata": {},
   "source": [
    "# Data Understanding"
   ]
  },
  {
   "cell_type": "code",
   "execution_count": 8,
   "metadata": {},
   "outputs": [
    {
     "data": {
      "text/plain": [
       "<matplotlib.axes._subplots.AxesSubplot at 0x7f4f38654128>"
      ]
     },
     "execution_count": 8,
     "metadata": {},
     "output_type": "execute_result"
    },
    {
     "data": {
      "image/png": "[encoded data removed]",
      "text/plain": [
       "<Figure size 432x288 with 1 Axes>"
      ]
     },
     "metadata": {},
     "output_type": "display_data"
    }
   ],
   "source": [
    "sns.set_style('whitegrid')\n",
    "sns.countplot(x='Adherence',data=train,palette='RdBu_r')"
   ]
  },
  {
   "cell_type": "code",
   "execution_count": 9,
   "metadata": {},
   "outputs": [
    {
     "data": {
      "text/plain": [
       "<matplotlib.axes._subplots.AxesSubplot at 0x7f4f38623198>"
      ]
     },
     "execution_count": 9,
     "metadata": {},
     "output_type": "execute_result"
    },
    {
     "data": {
      "image/png": "[encoded data removed]",
      "text/plain": [
       "<Figure size 432x288 with 1 Axes>"
      ]
     },
     "metadata": {},
     "output_type": "display_data"
    }
   ],
   "source": [
    "sns.set_style('whitegrid')\n",
    "sns.countplot(x='Adherence',hue='Diabetes',data=train,palette='RdBu_r')"
   ]
  },
  {
   "cell_type": "code",
   "execution_count": 10,
   "metadata": {},
   "outputs": [
    {
     "data": {
      "text/plain": [
       "<matplotlib.axes._subplots.AxesSubplot at 0x7f4f385921d0>"
      ]
     },
     "execution_count": 10,
     "metadata": {},
     "output_type": "execute_result"
    },
    {
     "data": {
      "image/png": "[encoded data removed]",
      "text/plain": [
       "<Figure size 432x288 with 1 Axes>"
      ]
     },
     "metadata": {},
     "output_type": "display_data"
    }
   ],
   "source": [
    "sns.set_style('whitegrid')\n",
    "sns.countplot(x='Adherence',hue='Alcoholism',data=train,palette='rainbow')"
   ]
  },
  {
   "cell_type": "code",
   "execution_count": 11,
   "metadata": {},
   "outputs": [
    {
     "data": {
      "text/plain": [
       "<matplotlib.axes._subplots.AxesSubplot at 0x7f4f3856f390>"
      ]
     },
     "execution_count": 11,
     "metadata": {},
     "output_type": "execute_result"
    },
    {
     "data": {
      "image/png": "[encoded data removed]",
      "text/plain": [
       "<Figure size 432x288 with 1 Axes>"
      ]
     },
     "metadata": {},
     "output_type": "display_data"
    }
   ],
   "source": [
    "train['Age'].hist(bins=30,color='darkred',alpha=0.7)"
   ]
  },
  {
   "cell_type": "code",
   "execution_count": 12,
   "metadata": {},
   "outputs": [
    {
     "data": {
      "text/plain": [
       "<matplotlib.axes._subplots.AxesSubplot at 0x7f4f384b02b0>"
      ]
     },
     "execution_count": 12,
     "metadata": {},
     "output_type": "execute_result"
    },
    {
     "data": {
      "image/png": "[encoded data removed]",
      "text/plain": [
       "<Figure size 432x288 with 1 Axes>"
      ]
     },
     "metadata": {},
     "output_type": "display_data"
    }
   ],
   "source": [
    "train['Prescription_period'].hist(bins=30,color='darkred',alpha=0.7)"
   ]
  },
  {
   "cell_type": "markdown",
   "metadata": {},
   "source": [
    "# Data Cleaning\n",
    "We want to fill in missing data instead of just dropping the missing data rows. One way to do this is by filling in the mean of that column. Note: Here we don't have missing value. So, this step is not needed here. But for general purpose we are doing it."
   ]
  },
  {
   "cell_type": "code",
   "execution_count": 13,
   "metadata": {},
   "outputs": [
    {
     "data": {
      "text/plain": [
       "<matplotlib.axes._subplots.AxesSubplot at 0x7f4f38567dd8>"
      ]
     },
     "execution_count": 13,
     "metadata": {},
     "output_type": "execute_result"
    },
    {
     "data": {
      "image/png": "[encoded data removed]",
      "text/plain": [
       "<Figure size 864x504 with 1 Axes>"
      ]
     },
     "metadata": {},
     "output_type": "display_data"
    }
   ],
   "source": [
    "plt.figure(figsize=(12, 7))\n",
    "sns.boxplot(x='Adherence',y='Age',data=train,palette='winter')"
   ]
  },
  {
   "cell_type": "code",
   "execution_count": 14,
   "metadata": {},
   "outputs": [
    {
     "name": "stdout",
     "output_type": "stream",
     "text": [
      "<class 'pandas.core.frame.DataFrame'>\n",
      "RangeIndex: 144169 entries, 0 to 144168\n",
      "Data columns (total 11 columns):\n",
      "patient_id             144169 non-null int64\n",
      "Age                    144169 non-null int64\n",
      "Gender                 144169 non-null object\n",
      "Prescription_period    144169 non-null int64\n",
      "Diabetes               144169 non-null int64\n",
      "Alcoholism             144169 non-null int64\n",
      "HyperTension           144169 non-null int64\n",
      "Smokes                 144169 non-null int64\n",
      "Tuberculosis           144169 non-null int64\n",
      "Sms_Reminder           144169 non-null int64\n",
      "Adherence              144169 non-null object\n",
      "dtypes: int64(9), object(2)\n",
      "memory usage: 12.1+ MB\n"
     ]
    }
   ],
   "source": [
    "train.info()"
   ]
  },
  {
   "cell_type": "code",
   "execution_count": 15,
   "metadata": {},
   "outputs": [],
   "source": [
    "dummy_var = {'Gender':     {'F': 0, 'M': 1},\n",
    "             'Adherence': {'No': 0, 'Yes':1 }}"
   ]
  },
  {
   "cell_type": "code",
   "execution_count": 16,
   "metadata": {},
   "outputs": [
    {
     "data": {
      "text/html": [
       "<div>\n",
       "<style scoped>\n",
       "    .dataframe tbody tr th:only-of-type {\n",
       "        vertical-align: middle;\n",
       "    }\n",
       "\n",
       "    .dataframe tbody tr th {\n",
       "        vertical-align: top;\n",
       "    }\n",
       "\n",
       "    .dataframe thead th {\n",
       "        text-align: right;\n",
       "    }\n",
       "</style>\n",
       "<table border=\"1\" class=\"dataframe\">\n",
       "  <thead>\n",
       "    <tr style=\"text-align: right;\">\n",
       "      <th></th>\n",
       "      <th>patient_id</th>\n",
       "      <th>Age</th>\n",
       "      <th>Gender</th>\n",
       "      <th>Prescription_period</th>\n",
       "      <th>Diabetes</th>\n",
       "      <th>Alcoholism</th>\n",
       "      <th>HyperTension</th>\n",
       "      <th>Smokes</th>\n",
       "      <th>Tuberculosis</th>\n",
       "      <th>Sms_Reminder</th>\n",
       "      <th>Adherence</th>\n",
       "    </tr>\n",
       "  </thead>\n",
       "  <tbody>\n",
       "    <tr>\n",
       "      <th>0</th>\n",
       "      <td>107339</td>\n",
       "      <td>32</td>\n",
       "      <td>0</td>\n",
       "      <td>15</td>\n",
       "      <td>0</td>\n",
       "      <td>0</td>\n",
       "      <td>0</td>\n",
       "      <td>0</td>\n",
       "      <td>0</td>\n",
       "      <td>0</td>\n",
       "      <td>1</td>\n",
       "    </tr>\n",
       "    <tr>\n",
       "      <th>1</th>\n",
       "      <td>157372</td>\n",
       "      <td>58</td>\n",
       "      <td>0</td>\n",
       "      <td>68</td>\n",
       "      <td>0</td>\n",
       "      <td>0</td>\n",
       "      <td>0</td>\n",
       "      <td>0</td>\n",
       "      <td>0</td>\n",
       "      <td>1</td>\n",
       "      <td>0</td>\n",
       "    </tr>\n",
       "    <tr>\n",
       "      <th>2</th>\n",
       "      <td>84080</td>\n",
       "      <td>47</td>\n",
       "      <td>0</td>\n",
       "      <td>41</td>\n",
       "      <td>0</td>\n",
       "      <td>0</td>\n",
       "      <td>0</td>\n",
       "      <td>0</td>\n",
       "      <td>0</td>\n",
       "      <td>1</td>\n",
       "      <td>0</td>\n",
       "    </tr>\n",
       "    <tr>\n",
       "      <th>3</th>\n",
       "      <td>76807</td>\n",
       "      <td>52</td>\n",
       "      <td>0</td>\n",
       "      <td>3</td>\n",
       "      <td>0</td>\n",
       "      <td>0</td>\n",
       "      <td>0</td>\n",
       "      <td>1</td>\n",
       "      <td>0</td>\n",
       "      <td>0</td>\n",
       "      <td>1</td>\n",
       "    </tr>\n",
       "    <tr>\n",
       "      <th>4</th>\n",
       "      <td>18730</td>\n",
       "      <td>56</td>\n",
       "      <td>1</td>\n",
       "      <td>1</td>\n",
       "      <td>0</td>\n",
       "      <td>0</td>\n",
       "      <td>1</td>\n",
       "      <td>0</td>\n",
       "      <td>0</td>\n",
       "      <td>0</td>\n",
       "      <td>1</td>\n",
       "    </tr>\n",
       "  </tbody>\n",
       "</table>\n",
       "</div>"
      ],
      "text/plain": [
       "   patient_id  Age  Gender  Prescription_period  Diabetes  Alcoholism  \\\n",
       "0      107339   32       0                   15         0           0   \n",
       "1      157372   58       0                   68         0           0   \n",
       "2       84080   47       0                   41         0           0   \n",
       "3       76807   52       0                    3         0           0   \n",
       "4       18730   56       1                    1         0           0   \n",
       "\n",
       "   HyperTension  Smokes  Tuberculosis  Sms_Reminder  Adherence  \n",
       "0             0       0             0             0          1  \n",
       "1             0       0             0             1          0  \n",
       "2             0       0             0             1          0  \n",
       "3             0       1             0             0          1  \n",
       "4             1       0             0             0          1  "
      ]
     },
     "execution_count": 16,
     "metadata": {},
     "output_type": "execute_result"
    }
   ],
   "source": [
    "#Converting data type object to int. So now all the columns are of int datatype.\n",
    "train_int = train.replace(dummy_var)\n",
    "train_int.head()"
   ]
  },
  {
   "cell_type": "code",
   "execution_count": 17,
   "metadata": {},
   "outputs": [
    {
     "name": "stdout",
     "output_type": "stream",
     "text": [
      "<class 'pandas.core.frame.DataFrame'>\n",
      "RangeIndex: 144169 entries, 0 to 144168\n",
      "Data columns (total 11 columns):\n",
      "patient_id             144169 non-null int64\n",
      "Age                    144169 non-null int64\n",
      "Gender                 144169 non-null int64\n",
      "Prescription_period    144169 non-null int64\n",
      "Diabetes               144169 non-null int64\n",
      "Alcoholism             144169 non-null int64\n",
      "HyperTension           144169 non-null int64\n",
      "Smokes                 144169 non-null int64\n",
      "Tuberculosis           144169 non-null int64\n",
      "Sms_Reminder           144169 non-null int64\n",
      "Adherence              144169 non-null int64\n",
      "dtypes: int64(11)\n",
      "memory usage: 12.1 MB\n"
     ]
    }
   ],
   "source": [
    "train_int.info()"
   ]
  },
  {
   "cell_type": "code",
   "execution_count": 18,
   "metadata": {},
   "outputs": [
    {
     "data": {
      "text/plain": [
       "<matplotlib.axes._subplots.AxesSubplot at 0x7f4f38340fd0>"
      ]
     },
     "execution_count": 18,
     "metadata": {},
     "output_type": "execute_result"
    },
    {
     "data": {
      "image/png": "[encoded data removed]",
      "text/plain": [
       "<Figure size 648x576 with 2 Axes>"
      ]
     },
     "metadata": {},
     "output_type": "display_data"
    }
   ],
   "source": [
    "cor = train_int.corr(method ='pearson') \n",
    "f, ax = plt.subplots(figsize =(9, 8)) \n",
    "sns.heatmap(cor, ax = ax, linewidths = 0.1) "
   ]
  },
  {
   "cell_type": "code",
   "execution_count": 19,
   "metadata": {},
   "outputs": [
    {
     "data": {
      "text/html": [
       "<div>\n",
       "<style scoped>\n",
       "    .dataframe tbody tr th:only-of-type {\n",
       "        vertical-align: middle;\n",
       "    }\n",
       "\n",
       "    .dataframe tbody tr th {\n",
       "        vertical-align: top;\n",
       "    }\n",
       "\n",
       "    .dataframe thead th {\n",
       "        text-align: right;\n",
       "    }\n",
       "</style>\n",
       "<table border=\"1\" class=\"dataframe\">\n",
       "  <thead>\n",
       "    <tr style=\"text-align: right;\">\n",
       "      <th></th>\n",
       "      <th>patient_id</th>\n",
       "      <th>Age</th>\n",
       "      <th>Gender</th>\n",
       "      <th>Prescription_period</th>\n",
       "      <th>Diabetes</th>\n",
       "      <th>Alcoholism</th>\n",
       "      <th>HyperTension</th>\n",
       "      <th>Smokes</th>\n",
       "      <th>Tuberculosis</th>\n",
       "      <th>Sms_Reminder</th>\n",
       "      <th>Adherence</th>\n",
       "    </tr>\n",
       "  </thead>\n",
       "  <tbody>\n",
       "    <tr>\n",
       "      <th>patient_id</th>\n",
       "      <td>1.000000</td>\n",
       "      <td>-0.000724</td>\n",
       "      <td>0.000263</td>\n",
       "      <td>0.001444</td>\n",
       "      <td>-0.001548</td>\n",
       "      <td>0.001192</td>\n",
       "      <td>0.001516</td>\n",
       "      <td>-0.003372</td>\n",
       "      <td>0.002352</td>\n",
       "      <td>0.003765</td>\n",
       "      <td>-0.001978</td>\n",
       "    </tr>\n",
       "    <tr>\n",
       "      <th>Age</th>\n",
       "      <td>-0.000724</td>\n",
       "      <td>1.000000</td>\n",
       "      <td>-0.102198</td>\n",
       "      <td>0.060301</td>\n",
       "      <td>0.294199</td>\n",
       "      <td>0.071737</td>\n",
       "      <td>0.509821</td>\n",
       "      <td>0.091809</td>\n",
       "      <td>-0.000318</td>\n",
       "      <td>-0.052889</td>\n",
       "      <td>-0.101330</td>\n",
       "    </tr>\n",
       "    <tr>\n",
       "      <th>Gender</th>\n",
       "      <td>0.000263</td>\n",
       "      <td>-0.102198</td>\n",
       "      <td>1.000000</td>\n",
       "      <td>-0.004993</td>\n",
       "      <td>-0.019219</td>\n",
       "      <td>0.095209</td>\n",
       "      <td>-0.046845</td>\n",
       "      <td>0.042509</td>\n",
       "      <td>0.007339</td>\n",
       "      <td>-0.028165</td>\n",
       "      <td>0.010951</td>\n",
       "    </tr>\n",
       "    <tr>\n",
       "      <th>Prescription_period</th>\n",
       "      <td>0.001444</td>\n",
       "      <td>0.060301</td>\n",
       "      <td>-0.004993</td>\n",
       "      <td>1.000000</td>\n",
       "      <td>0.016110</td>\n",
       "      <td>-0.014923</td>\n",
       "      <td>0.034948</td>\n",
       "      <td>-0.016508</td>\n",
       "      <td>-0.000775</td>\n",
       "      <td>-0.000245</td>\n",
       "      <td>-0.613014</td>\n",
       "    </tr>\n",
       "    <tr>\n",
       "      <th>Diabetes</th>\n",
       "      <td>-0.001548</td>\n",
       "      <td>0.294199</td>\n",
       "      <td>-0.019219</td>\n",
       "      <td>0.016110</td>\n",
       "      <td>1.000000</td>\n",
       "      <td>0.022155</td>\n",
       "      <td>0.422804</td>\n",
       "      <td>0.043456</td>\n",
       "      <td>0.004585</td>\n",
       "      <td>-0.031344</td>\n",
       "      <td>-0.030485</td>\n",
       "    </tr>\n",
       "    <tr>\n",
       "      <th>Alcoholism</th>\n",
       "      <td>0.001192</td>\n",
       "      <td>0.071737</td>\n",
       "      <td>0.095209</td>\n",
       "      <td>-0.014923</td>\n",
       "      <td>0.022155</td>\n",
       "      <td>1.000000</td>\n",
       "      <td>0.069222</td>\n",
       "      <td>0.393529</td>\n",
       "      <td>0.040800</td>\n",
       "      <td>-0.019493</td>\n",
       "      <td>0.025763</td>\n",
       "    </tr>\n",
       "    <tr>\n",
       "      <th>HyperTension</th>\n",
       "      <td>0.001516</td>\n",
       "      <td>0.509821</td>\n",
       "      <td>-0.046845</td>\n",
       "      <td>0.034948</td>\n",
       "      <td>0.422804</td>\n",
       "      <td>0.069222</td>\n",
       "      <td>1.000000</td>\n",
       "      <td>0.078708</td>\n",
       "      <td>-0.002205</td>\n",
       "      <td>-0.045067</td>\n",
       "      <td>-0.060344</td>\n",
       "    </tr>\n",
       "    <tr>\n",
       "      <th>Smokes</th>\n",
       "      <td>-0.003372</td>\n",
       "      <td>0.091809</td>\n",
       "      <td>0.042509</td>\n",
       "      <td>-0.016508</td>\n",
       "      <td>0.043456</td>\n",
       "      <td>0.393529</td>\n",
       "      <td>0.078708</td>\n",
       "      <td>1.000000</td>\n",
       "      <td>0.016134</td>\n",
       "      <td>-0.012604</td>\n",
       "      <td>0.026018</td>\n",
       "    </tr>\n",
       "    <tr>\n",
       "      <th>Tuberculosis</th>\n",
       "      <td>0.002352</td>\n",
       "      <td>-0.000318</td>\n",
       "      <td>0.007339</td>\n",
       "      <td>-0.000775</td>\n",
       "      <td>0.004585</td>\n",
       "      <td>0.040800</td>\n",
       "      <td>-0.002205</td>\n",
       "      <td>0.016134</td>\n",
       "      <td>1.000000</td>\n",
       "      <td>-0.003451</td>\n",
       "      <td>0.002081</td>\n",
       "    </tr>\n",
       "    <tr>\n",
       "      <th>Sms_Reminder</th>\n",
       "      <td>0.003765</td>\n",
       "      <td>-0.052889</td>\n",
       "      <td>-0.028165</td>\n",
       "      <td>-0.000245</td>\n",
       "      <td>-0.031344</td>\n",
       "      <td>-0.019493</td>\n",
       "      <td>-0.045067</td>\n",
       "      <td>-0.012604</td>\n",
       "      <td>-0.003451</td>\n",
       "      <td>1.000000</td>\n",
       "      <td>-0.001506</td>\n",
       "    </tr>\n",
       "    <tr>\n",
       "      <th>Adherence</th>\n",
       "      <td>-0.001978</td>\n",
       "      <td>-0.101330</td>\n",
       "      <td>0.010951</td>\n",
       "      <td>-0.613014</td>\n",
       "      <td>-0.030485</td>\n",
       "      <td>0.025763</td>\n",
       "      <td>-0.060344</td>\n",
       "      <td>0.026018</td>\n",
       "      <td>0.002081</td>\n",
       "      <td>-0.001506</td>\n",
       "      <td>1.000000</td>\n",
       "    </tr>\n",
       "  </tbody>\n",
       "</table>\n",
       "</div>"
      ],
      "text/plain": [
       "                     patient_id       Age    Gender  Prescription_period  \\\n",
       "patient_id             1.000000 -0.000724  0.000263             0.001444   \n",
       "Age                   -0.000724  1.000000 -0.102198             0.060301   \n",
       "Gender                 0.000263 -0.102198  1.000000            -0.004993   \n",
       "Prescription_period    0.001444  0.060301 -0.004993             1.000000   \n",
       "Diabetes              -0.001548  0.294199 -0.019219             0.016110   \n",
       "Alcoholism             0.001192  0.071737  0.095209            -0.014923   \n",
       "HyperTension           0.001516  0.509821 -0.046845             0.034948   \n",
       "Smokes                -0.003372  0.091809  0.042509            -0.016508   \n",
       "Tuberculosis           0.002352 -0.000318  0.007339            -0.000775   \n",
       "Sms_Reminder           0.003765 -0.052889 -0.028165            -0.000245   \n",
       "Adherence             -0.001978 -0.101330  0.010951            -0.613014   \n",
       "\n",
       "                     Diabetes  Alcoholism  HyperTension    Smokes  \\\n",
       "patient_id          -0.001548    0.001192      0.001516 -0.003372   \n",
       "Age                  0.294199    0.071737      0.509821  0.091809   \n",
       "Gender              -0.019219    0.095209     -0.046845  0.042509   \n",
       "Prescription_period  0.016110   -0.014923      0.034948 -0.016508   \n",
       "Diabetes             1.000000    0.022155      0.422804  0.043456   \n",
       "Alcoholism           0.022155    1.000000      0.069222  0.393529   \n",
       "HyperTension         0.422804    0.069222      1.000000  0.078708   \n",
       "Smokes               0.043456    0.393529      0.078708  1.000000   \n",
       "Tuberculosis         0.004585    0.040800     -0.002205  0.016134   \n",
       "Sms_Reminder        -0.031344   -0.019493     -0.045067 -0.012604   \n",
       "Adherence           -0.030485    0.025763     -0.060344  0.026018   \n",
       "\n",
       "                     Tuberculosis  Sms_Reminder  Adherence  \n",
       "patient_id               0.002352      0.003765  -0.001978  \n",
       "Age                     -0.000318     -0.052889  -0.101330  \n",
       "Gender                   0.007339     -0.028165   0.010951  \n",
       "Prescription_period     -0.000775     -0.000245  -0.613014  \n",
       "Diabetes                 0.004585     -0.031344  -0.030485  \n",
       "Alcoholism               0.040800     -0.019493   0.025763  \n",
       "HyperTension            -0.002205     -0.045067  -0.060344  \n",
       "Smokes                   0.016134     -0.012604   0.026018  \n",
       "Tuberculosis             1.000000     -0.003451   0.002081  \n",
       "Sms_Reminder            -0.003451      1.000000  -0.001506  \n",
       "Adherence                0.002081     -0.001506   1.000000  "
      ]
     },
     "execution_count": 19,
     "metadata": {},
     "output_type": "execute_result"
    }
   ],
   "source": [
    "#From corr graph and valus(as below) it is clear that Adherence is highly corr with Prescription_period\n",
    "# Also Diabetes' and 'HyperTension' are highly correlated with 'Age' so we remove these columns\n",
    "# Also, same for 'Alcoholism', it is highly correlated with 'Smokes' column.\n",
    "cor"
   ]
  },
  {
   "cell_type": "code",
   "execution_count": 20,
   "metadata": {},
   "outputs": [
    {
     "data": {
      "text/html": [
       "<div>\n",
       "<style scoped>\n",
       "    .dataframe tbody tr th:only-of-type {\n",
       "        vertical-align: middle;\n",
       "    }\n",
       "\n",
       "    .dataframe tbody tr th {\n",
       "        vertical-align: top;\n",
       "    }\n",
       "\n",
       "    .dataframe thead th {\n",
       "        text-align: right;\n",
       "    }\n",
       "</style>\n",
       "<table border=\"1\" class=\"dataframe\">\n",
       "  <thead>\n",
       "    <tr style=\"text-align: right;\">\n",
       "      <th></th>\n",
       "      <th>Age</th>\n",
       "      <th>Gender</th>\n",
       "      <th>Prescription_period</th>\n",
       "      <th>Smokes</th>\n",
       "      <th>Tuberculosis</th>\n",
       "      <th>Sms_Reminder</th>\n",
       "      <th>Adherence</th>\n",
       "    </tr>\n",
       "  </thead>\n",
       "  <tbody>\n",
       "    <tr>\n",
       "      <th>0</th>\n",
       "      <td>32</td>\n",
       "      <td>0</td>\n",
       "      <td>15</td>\n",
       "      <td>0</td>\n",
       "      <td>0</td>\n",
       "      <td>0</td>\n",
       "      <td>1</td>\n",
       "    </tr>\n",
       "    <tr>\n",
       "      <th>1</th>\n",
       "      <td>58</td>\n",
       "      <td>0</td>\n",
       "      <td>68</td>\n",
       "      <td>0</td>\n",
       "      <td>0</td>\n",
       "      <td>1</td>\n",
       "      <td>0</td>\n",
       "    </tr>\n",
       "    <tr>\n",
       "      <th>2</th>\n",
       "      <td>47</td>\n",
       "      <td>0</td>\n",
       "      <td>41</td>\n",
       "      <td>0</td>\n",
       "      <td>0</td>\n",
       "      <td>1</td>\n",
       "      <td>0</td>\n",
       "    </tr>\n",
       "    <tr>\n",
       "      <th>3</th>\n",
       "      <td>52</td>\n",
       "      <td>0</td>\n",
       "      <td>3</td>\n",
       "      <td>1</td>\n",
       "      <td>0</td>\n",
       "      <td>0</td>\n",
       "      <td>1</td>\n",
       "    </tr>\n",
       "    <tr>\n",
       "      <th>4</th>\n",
       "      <td>56</td>\n",
       "      <td>1</td>\n",
       "      <td>1</td>\n",
       "      <td>0</td>\n",
       "      <td>0</td>\n",
       "      <td>0</td>\n",
       "      <td>1</td>\n",
       "    </tr>\n",
       "  </tbody>\n",
       "</table>\n",
       "</div>"
      ],
      "text/plain": [
       "   Age  Gender  Prescription_period  Smokes  Tuberculosis  Sms_Reminder  \\\n",
       "0   32       0                   15       0             0             0   \n",
       "1   58       0                   68       0             0             1   \n",
       "2   47       0                   41       0             0             1   \n",
       "3   52       0                    3       1             0             0   \n",
       "4   56       1                    1       0             0             0   \n",
       "\n",
       "   Adherence  \n",
       "0          1  \n",
       "1          0  \n",
       "2          0  \n",
       "3          1  \n",
       "4          1  "
      ]
     },
     "execution_count": 20,
     "metadata": {},
     "output_type": "execute_result"
    }
   ],
   "source": [
    "Train_int = train_int.drop(['patient_id','Diabetes','Alcoholism','HyperTension'], axis=1)\n",
    "Train_int.head()"
   ]
  },
  {
   "cell_type": "code",
   "execution_count": 21,
   "metadata": {},
   "outputs": [
    {
     "name": "stdout",
     "output_type": "stream",
     "text": [
      "<class 'pandas.core.frame.DataFrame'>\n",
      "RangeIndex: 144169 entries, 0 to 144168\n",
      "Data columns (total 7 columns):\n",
      "Age                    144169 non-null int64\n",
      "Gender                 144169 non-null int64\n",
      "Prescription_period    144169 non-null int64\n",
      "Smokes                 144169 non-null int64\n",
      "Tuberculosis           144169 non-null int64\n",
      "Sms_Reminder           144169 non-null int64\n",
      "Adherence              144169 non-null int64\n",
      "dtypes: int64(7)\n",
      "memory usage: 7.7 MB\n"
     ]
    }
   ],
   "source": [
    "Train_int.info()"
   ]
  },
  {
   "cell_type": "code",
   "execution_count": 23,
   "metadata": {},
   "outputs": [],
   "source": [
    "# Split data into train and dev set\n",
    "y = Train_int['Adherence']\n",
    "x_train, x_dev = train_test_split(Train_int,test_size=0.2,stratify=y, random_state=42)"
   ]
  },
  {
   "cell_type": "code",
   "execution_count": 24,
   "metadata": {},
   "outputs": [],
   "source": [
    "x_train.reset_index(drop=True,inplace=True)\n",
    "x_dev.reset_index(drop=True,inplace=True)"
   ]
  },
  {
   "cell_type": "code",
   "execution_count": 25,
   "metadata": {},
   "outputs": [],
   "source": [
    "X_train=x_train.drop('Adherence',axis=1)\n",
    "X_dev=x_dev.drop('Adherence',axis=1)"
   ]
  },
  {
   "cell_type": "code",
   "execution_count": 29,
   "metadata": {},
   "outputs": [
    {
     "data": {
      "text/plain": [
       "pandas.core.series.Series"
      ]
     },
     "execution_count": 29,
     "metadata": {},
     "output_type": "execute_result"
    }
   ],
   "source": [
    "y_train=x_train['Adherence']\n",
    "y_dev=x_dev['Adherence']"
   ]
  },
  {
   "cell_type": "markdown",
   "metadata": {},
   "source": [
    "# Model"
   ]
  },
  {
   "cell_type": "code",
   "execution_count": 30,
   "metadata": {},
   "outputs": [
    {
     "data": {
      "text/plain": [
       "2.3132720482619935"
      ]
     },
     "execution_count": 30,
     "metadata": {},
     "output_type": "execute_result"
    }
   ],
   "source": [
    "scale_pos_weight = np.sum(y_train==0)/np.sum(y_train==1)\n",
    "scale_pos_weight"
   ]
  },
  {
   "cell_type": "code",
   "execution_count": 32,
   "metadata": {},
   "outputs": [],
   "source": [
    "parameters = {'nthread':[-1], \n",
    "              'scale_pos_weight':[scale_pos_weight],\n",
    "              'objective':['binary:logistic'],\n",
    "              'learning_rate': [0.005, 0.01, 0.015],\n",
    "              'max_depth': [4,5,6],\n",
    "              'n_estimators': [500,1000,1500],\n",
    "              'seed': [133]}"
   ]
  },
  {
   "cell_type": "code",
   "execution_count": 33,
   "metadata": {},
   "outputs": [],
   "source": [
    "xgb_model = xgb.XGBClassifier()"
   ]
  },
  {
   "cell_type": "code",
   "execution_count": 34,
   "metadata": {},
   "outputs": [],
   "source": [
    "clf = GridSearchCV(xgb_model, parameters, n_jobs=-1, \n",
    "                   cv = StratifiedKFold(shuffle=True,n_splits=3), \n",
    "                   scoring='roc_auc',\n",
    "                   verbose=2, refit=True)"
   ]
  },
  {
   "cell_type": "code",
   "execution_count": 35,
   "metadata": {},
   "outputs": [
    {
     "name": "stdout",
     "output_type": "stream",
     "text": [
      "Fitting 3 folds for each of 1 candidates, totalling 3 fits\n"
     ]
    },
    {
     "name": "stderr",
     "output_type": "stream",
     "text": [
      "[Parallel(n_jobs=-1)]: Using backend LokyBackend with 4 concurrent workers.\n",
      "[Parallel(n_jobs=-1)]: Done   3 out of   3 | elapsed:   24.3s finished\n"
     ]
    },
    {
     "data": {
      "text/plain": [
       "GridSearchCV(cv=StratifiedKFold(n_splits=3, random_state=None, shuffle=True),\n",
       "       error_score='raise-deprecating',\n",
       "       estimator=XGBClassifier(base_score=None, booster=None, colsample_bylevel=None,\n",
       "       colsample_bynode=None, colsample_bytree=None, gamma=None,\n",
       "       gpu_id=None, importance_type='gain', interaction_constraints=None,\n",
       "       learning_rate=None, max_delta_step=None, max_depth=None,\n",
       "       min_child_w...pos_weight=None, subsample=None,\n",
       "       tree_method=None, validate_parameters=False, verbosity=None),\n",
       "       fit_params=None, iid='warn', n_jobs=-1,\n",
       "       param_grid={'nthread': [-1], 'scale_pos_weight': [2.3132720482619935], 'objective': ['binary:logistic'], 'learning_rate': [0.01], 'max_depth': [4], 'n_estimators': [500], 'seed': [133]},\n",
       "       pre_dispatch='2*n_jobs', refit=True, return_train_score='warn',\n",
       "       scoring='roc_auc', verbose=2)"
      ]
     },
     "execution_count": 35,
     "metadata": {},
     "output_type": "execute_result"
    }
   ],
   "source": [
    "clf.fit(X_train, y_train)"
   ]
  },
  {
   "cell_type": "code",
   "execution_count": 36,
   "metadata": {},
   "outputs": [
    {
     "data": {
      "text/plain": [
       "XGBClassifier(base_score=0.5, booster=None, colsample_bylevel=1,\n",
       "       colsample_bynode=1, colsample_bytree=1, gamma=0, gpu_id=-1,\n",
       "       importance_type='gain', interaction_constraints=None,\n",
       "       learning_rate=0.01, max_delta_step=0, max_depth=4,\n",
       "       min_child_weight=1, missing=nan, monotone_constraints=None,\n",
       "       n_estimators=500, n_jobs=-1, nthread=-1, num_parallel_tree=1,\n",
       "       objective='binary:logistic', random_state=133, reg_alpha=0,\n",
       "       reg_lambda=1, scale_pos_weight=2.3132720482619935, seed=133,\n",
       "       subsample=1, tree_method=None, validate_parameters=False,\n",
       "       verbosity=None)"
      ]
     },
     "execution_count": 36,
     "metadata": {},
     "output_type": "execute_result"
    }
   ],
   "source": [
    "model = clf.best_estimator_\n",
    "model"
   ]
  },
  {
   "cell_type": "markdown",
   "metadata": {},
   "source": [
    "# Evalution"
   ]
  },
  {
   "cell_type": "code",
   "execution_count": 54,
   "metadata": {},
   "outputs": [
    {
     "name": "stdout",
     "output_type": "stream",
     "text": [
      "Accuracy Score : 0.8944301865852813 for tresold 0.6\n",
      "Accuracy Score : 0.894776999375737 for tresold 0.61\n",
      "Accuracy Score : 0.8948463619338282 for tresold 0.62\n",
      "Accuracy Score : 0.8948463619338282 for tresold 0.63\n",
      "Accuracy Score : 0.8948116806547826 for tresold 0.64\n",
      "Accuracy Score : 0.8947076368176459 for tresold 0.65\n",
      "Accuracy Score : 0.8951584934452382 for tresold 0.6599999999999999\n",
      "Accuracy Score : 0.8951584934452382 for tresold 0.6699999999999999\n",
      "Accuracy Score : 0.8954012623985572 for tresold 0.6799999999999999\n",
      "Accuracy Score : 0.8953665811195117 for tresold 0.69\n"
     ]
    }
   ],
   "source": [
    "ypred = model.predict_proba(X_dev)\n",
    "for i in range(10):\n",
    "    THRESHOLD = 0.6 + i/100\n",
    "    y_pred = np.where(ypred[:,1] > THRESHOLD, 1, 0)\n",
    "    print('Accuracy Score : {one} for tresold {two}'.format(one = accuracy_score(y_dev,y_pred), two = THRESHOLD))\n",
    "#At thresold = 0.68 we got max accuracy"
   ]
  },
  {
   "cell_type": "code",
   "execution_count": 55,
   "metadata": {},
   "outputs": [],
   "source": [
    "# Model for finding accuracy, cunfusion matrix and f1 score for given test data\n",
    "def ConfusionMatrix_Accuracy(X,y):\n",
    "    #Model Formatiom\n",
    "    ypred = model.predict_proba(X)\n",
    "    # Output Prediction\n",
    "    THRESHOLD = 0.68\n",
    "    y_pred = np.where(ypred[:,1] > THRESHOLD, 1, 0)\n",
    "    #Confusion matrix\n",
    "    result = confusion_matrix(y,y_pred) \n",
    "    print('Confusion Matrix :')\n",
    "    print(result)\n",
    "    print('Accuracy Score :',accuracy_score(y,y_pred))\n",
    "    print('Report : ')\n",
    "    print(classification_report(y,y_pred))\n",
    "    \n",
    "    return y_pred"
   ]
  },
  {
   "cell_type": "code",
   "execution_count": 56,
   "metadata": {},
   "outputs": [
    {
     "name": "stdout",
     "output_type": "stream",
     "text": [
      "Confusion Matrix :\n",
      "[[18030  2102]\n",
      " [  914  7788]]\n",
      "Accuracy Score : 0.8954012623985572\n",
      "Report : \n",
      "              precision    recall  f1-score   support\n",
      "\n",
      "           0       0.95      0.90      0.92     20132\n",
      "           1       0.79      0.89      0.84      8702\n",
      "\n",
      "   micro avg       0.90      0.90      0.90     28834\n",
      "   macro avg       0.87      0.90      0.88     28834\n",
      "weighted avg       0.90      0.90      0.90     28834\n",
      "\n"
     ]
    },
    {
     "data": {
      "text/plain": [
       "array([1, 0, 0, ..., 1, 1, 0])"
      ]
     },
     "execution_count": 56,
     "metadata": {},
     "output_type": "execute_result"
    }
   ],
   "source": [
    "model_final(X_dev,y_dev)"
   ]
  },
  {
   "cell_type": "code",
   "execution_count": 57,
   "metadata": {},
   "outputs": [
    {
     "name": "stdout",
     "output_type": "stream",
     "text": [
      "0.9126353403779597\n"
     ]
    }
   ],
   "source": [
    "from sklearn import metrics\n",
    "fpr, tpr, _ = metrics.roc_curve(y_dev, ypred[:,1])\n",
    "df = pd.DataFrame(dict(fpr=fpr, tpr=tpr))\n",
    "auc = metrics.auc(fpr,tpr)\n",
    "print(auc)"
   ]
  },
  {
   "cell_type": "code",
   "execution_count": 58,
   "metadata": {},
   "outputs": [
    {
     "data": {
      "text/plain": [
       "<matplotlib.axes._subplots.AxesSubplot at 0x7f4f379f1fd0>"
      ]
     },
     "execution_count": 58,
     "metadata": {},
     "output_type": "execute_result"
    },
    {
     "data": {
      "image/png": "[encoded data removed]",
      "text/plain": [
       "<Figure size 432x288 with 1 Axes>"
      ]
     },
     "metadata": {},
     "output_type": "display_data"
    }
   ],
   "source": [
    "from xgboost import plot_importance\n",
    "plot_importance(model,importance_type = \"gain\",max_num_features=5,show_values=\"False\")"
   ]
  },
  {
   "cell_type": "code",
   "execution_count": 59,
   "metadata": {},
   "outputs": [
    {
     "data": {
      "image/png": "[encoded data removed]",
      "text/plain": [
       "<Figure size 432x288 with 1 Axes>"
      ]
     },
     "metadata": {},
     "output_type": "display_data"
    }
   ],
   "source": [
    "plt.plot(fpr, tpr, color='darkorange', lw=2, label='ROC curve')\n",
    "plt.plot([0, 1], [0, 1], color='navy', lw=2, linestyle='--')\n",
    "plt.xlabel('False Positive Rate')\n",
    "plt.ylabel('True Positive Rate')\n",
    "plt.show()"
   ]
  },
  {
   "cell_type": "code",
   "execution_count": 62,
   "metadata": {},
   "outputs": [
    {
     "data": {
      "image/png": "[encoded data removed]",
      "text/plain": [
       "<Figure size 432x288 with 1 Axes>"
      ]
     },
     "metadata": {},
     "output_type": "display_data"
    }
   ],
   "source": [
    "import scikitplot as skplt\n",
    "skplt.metrics.plot_cumulative_gain(y_dev, ypred)\n",
    "plt.show()"
   ]
  },
  {
   "cell_type": "markdown",
   "metadata": {},
   "source": [
    "# Evalutate on test data set:"
   ]
  },
  {
   "cell_type": "code",
   "execution_count": 63,
   "metadata": {},
   "outputs": [
    {
     "data": {
      "text/html": [
       "<div>\n",
       "<style scoped>\n",
       "    .dataframe tbody tr th:only-of-type {\n",
       "        vertical-align: middle;\n",
       "    }\n",
       "\n",
       "    .dataframe tbody tr th {\n",
       "        vertical-align: top;\n",
       "    }\n",
       "\n",
       "    .dataframe thead th {\n",
       "        text-align: right;\n",
       "    }\n",
       "</style>\n",
       "<table border=\"1\" class=\"dataframe\">\n",
       "  <thead>\n",
       "    <tr style=\"text-align: right;\">\n",
       "      <th></th>\n",
       "      <th>patient_id</th>\n",
       "      <th>Age</th>\n",
       "      <th>Gender</th>\n",
       "      <th>Prescription_period</th>\n",
       "      <th>Diabetes</th>\n",
       "      <th>Alcoholism</th>\n",
       "      <th>HyperTension</th>\n",
       "      <th>Smokes</th>\n",
       "      <th>Tuberculosis</th>\n",
       "      <th>Sms_Reminder</th>\n",
       "      <th>Adherence</th>\n",
       "    </tr>\n",
       "  </thead>\n",
       "  <tbody>\n",
       "    <tr>\n",
       "      <th>0</th>\n",
       "      <td>179127</td>\n",
       "      <td>16</td>\n",
       "      <td>F</td>\n",
       "      <td>67</td>\n",
       "      <td>0</td>\n",
       "      <td>0</td>\n",
       "      <td>0</td>\n",
       "      <td>0</td>\n",
       "      <td>0</td>\n",
       "      <td>1</td>\n",
       "      <td>No</td>\n",
       "    </tr>\n",
       "    <tr>\n",
       "      <th>1</th>\n",
       "      <td>110505</td>\n",
       "      <td>11</td>\n",
       "      <td>M</td>\n",
       "      <td>71</td>\n",
       "      <td>0</td>\n",
       "      <td>0</td>\n",
       "      <td>0</td>\n",
       "      <td>0</td>\n",
       "      <td>0</td>\n",
       "      <td>1</td>\n",
       "      <td>No</td>\n",
       "    </tr>\n",
       "    <tr>\n",
       "      <th>2</th>\n",
       "      <td>105240</td>\n",
       "      <td>20</td>\n",
       "      <td>F</td>\n",
       "      <td>82</td>\n",
       "      <td>0</td>\n",
       "      <td>0</td>\n",
       "      <td>0</td>\n",
       "      <td>0</td>\n",
       "      <td>0</td>\n",
       "      <td>1</td>\n",
       "      <td>No</td>\n",
       "    </tr>\n",
       "    <tr>\n",
       "      <th>3</th>\n",
       "      <td>143991</td>\n",
       "      <td>61</td>\n",
       "      <td>F</td>\n",
       "      <td>64</td>\n",
       "      <td>1</td>\n",
       "      <td>0</td>\n",
       "      <td>1</td>\n",
       "      <td>0</td>\n",
       "      <td>0</td>\n",
       "      <td>1</td>\n",
       "      <td>No</td>\n",
       "    </tr>\n",
       "    <tr>\n",
       "      <th>4</th>\n",
       "      <td>127304</td>\n",
       "      <td>14</td>\n",
       "      <td>F</td>\n",
       "      <td>58</td>\n",
       "      <td>0</td>\n",
       "      <td>0</td>\n",
       "      <td>0</td>\n",
       "      <td>0</td>\n",
       "      <td>0</td>\n",
       "      <td>1</td>\n",
       "      <td>No</td>\n",
       "    </tr>\n",
       "  </tbody>\n",
       "</table>\n",
       "</div>"
      ],
      "text/plain": [
       "   patient_id  Age Gender  Prescription_period  Diabetes  Alcoholism  \\\n",
       "0      179127   16      F                   67         0           0   \n",
       "1      110505   11      M                   71         0           0   \n",
       "2      105240   20      F                   82         0           0   \n",
       "3      143991   61      F                   64         1           0   \n",
       "4      127304   14      F                   58         0           0   \n",
       "\n",
       "   HyperTension  Smokes  Tuberculosis  Sms_Reminder Adherence  \n",
       "0             0       0             0             1        No  \n",
       "1             0       0             0             1        No  \n",
       "2             0       0             0             1        No  \n",
       "3             1       0             0             1        No  \n",
       "4             0       0             0             1        No  "
      ]
     },
     "execution_count": 63,
     "metadata": {},
     "output_type": "execute_result"
    }
   ],
   "source": [
    "test = pd.read_csv('test.csv')\n",
    "test.head()"
   ]
  },
  {
   "cell_type": "code",
   "execution_count": 64,
   "metadata": {},
   "outputs": [
    {
     "name": "stdout",
     "output_type": "stream",
     "text": [
      "<class 'pandas.core.frame.DataFrame'>\n",
      "RangeIndex: 36043 entries, 0 to 36042\n",
      "Data columns (total 11 columns):\n",
      "patient_id             36043 non-null int64\n",
      "Age                    36043 non-null int64\n",
      "Gender                 36043 non-null object\n",
      "Prescription_period    36043 non-null int64\n",
      "Diabetes               36043 non-null int64\n",
      "Alcoholism             36043 non-null int64\n",
      "HyperTension           36043 non-null int64\n",
      "Smokes                 36043 non-null int64\n",
      "Tuberculosis           36043 non-null int64\n",
      "Sms_Reminder           36043 non-null int64\n",
      "Adherence              36043 non-null object\n",
      "dtypes: int64(9), object(2)\n",
      "memory usage: 3.0+ MB\n"
     ]
    }
   ],
   "source": [
    "test.info()"
   ]
  },
  {
   "cell_type": "code",
   "execution_count": 65,
   "metadata": {},
   "outputs": [],
   "source": [
    "dummy_var_test = {'Gender':     {'F': 0, 'M': 1},\n",
    "             'Adherence': {'No': 0, 'Yes':1 }}"
   ]
  },
  {
   "cell_type": "code",
   "execution_count": 66,
   "metadata": {},
   "outputs": [
    {
     "name": "stdout",
     "output_type": "stream",
     "text": [
      "<class 'pandas.core.frame.DataFrame'>\n",
      "RangeIndex: 36043 entries, 0 to 36042\n",
      "Data columns (total 6 columns):\n",
      "Age                    36043 non-null int64\n",
      "Gender                 36043 non-null int64\n",
      "Prescription_period    36043 non-null int64\n",
      "Smokes                 36043 non-null int64\n",
      "Tuberculosis           36043 non-null int64\n",
      "Sms_Reminder           36043 non-null int64\n",
      "dtypes: int64(6)\n",
      "memory usage: 1.7 MB\n"
     ]
    }
   ],
   "source": [
    "#Converting data type object to int. So now all the columns are of int datatype.\n",
    "test_x = test.replace(dummy_var_test)\n",
    "test_y = test_x['Adherence']\n",
    "test_x.drop(['patient_id','Diabetes','Alcoholism','HyperTension', 'Adherence'], axis=1, inplace=True)\n",
    "test_x.info()"
   ]
  },
  {
   "cell_type": "code",
   "execution_count": 67,
   "metadata": {},
   "outputs": [
    {
     "name": "stdout",
     "output_type": "stream",
     "text": [
      "Confusion Matrix :\n",
      "[[22468  2697]\n",
      " [ 1143  9735]]\n",
      "Accuracy Score : 0.8934605887412258\n",
      "Report : \n",
      "              precision    recall  f1-score   support\n",
      "\n",
      "           0       0.95      0.89      0.92     25165\n",
      "           1       0.78      0.89      0.84     10878\n",
      "\n",
      "   micro avg       0.89      0.89      0.89     36043\n",
      "   macro avg       0.87      0.89      0.88     36043\n",
      "weighted avg       0.90      0.89      0.90     36043\n",
      "\n"
     ]
    },
    {
     "data": {
      "text/plain": [
       "array([0, 0, 0, ..., 1, 1, 1])"
      ]
     },
     "execution_count": 67,
     "metadata": {},
     "output_type": "execute_result"
    }
   ],
   "source": [
    "ConfusionMatrix_Accuracy(test_x, test_y)"
   ]
  },
  {
   "cell_type": "code",
   "execution_count": null,
   "metadata": {},
   "outputs": [],
   "source": [
    "#Thank you."
   ]
  }
 ],
 "metadata": {
  "kernelspec": {
   "display_name": "Python 3",
   "language": "python",
   "name": "python3"
  },
  "language_info": {
   "codemirror_mode": {
    "name": "ipython",
    "version": 3
   },
   "file_extension": ".py",
   "mimetype": "text/x-python",
   "name": "python",
   "nbconvert_exporter": "python",
   "pygments_lexer": "ipython3",
   "version": "3.7.0"
  }
 },
 "nbformat": 4,
 "nbformat_minor": 2
}
